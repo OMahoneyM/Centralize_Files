{
 "cells": [
  {
   "cell_type": "markdown",
   "id": "4cd1b5fa",
   "metadata": {},
   "source": [
    "### Import necessary libraries"
   ]
  },
  {
   "cell_type": "code",
   "execution_count": null,
   "id": "f4f816bf",
   "metadata": {},
   "outputs": [],
   "source": [
    "import shutil\n",
    "import os\n",
    "from time import sleep\n",
    "from tqdm import tqdm"
   ]
  },
  {
   "cell_type": "markdown",
   "id": "6f7eb445",
   "metadata": {},
   "source": [
    "### Define fastq source directory and destination"
   ]
  },
  {
   "cell_type": "code",
   "execution_count": null,
   "id": "4185b7bd",
   "metadata": {},
   "outputs": [],
   "source": [
    "source = ''\n",
    "dest = ''\n",
    "total = 0"
   ]
  },
  {
   "cell_type": "markdown",
   "id": "b740f0b3",
   "metadata": {},
   "source": [
    "### Get count of \".fastq.gz\" files in the source directory and all subdirectories"
   ]
  },
  {
   "cell_type": "code",
   "execution_count": null,
   "id": "c626b887",
   "metadata": {},
   "outputs": [],
   "source": [
    "for root, dirs, files in os.walk(source):\n",
    "    for file in files:\n",
    "        # change text in quotes if looking for different file types\n",
    "        if file.endswith(\".fastq.gz\"):\n",
    "            total += 1"
   ]
  },
  {
   "cell_type": "markdown",
   "id": "0da2bb80",
   "metadata": {},
   "source": [
    "### Progress bar that updates based on number of files to copy"
   ]
  },
  {
   "cell_type": "code",
   "execution_count": null,
   "id": "535031e8",
   "metadata": {},
   "outputs": [],
   "source": [
    "for i in tqdm(range(total), desc=\"Progress\"):\n",
    "    sleep(0.001)\n",
    "    # For loop through files in source and copy them to destination directory\n",
    "    for root, dirs, files in os.walk(source):\n",
    "        for file in files:\n",
    "            # change text in quotes if looking for different file types\n",
    "            if file.endswith(\".fastq.gz\"):\n",
    "                path_file = os.path.join(root, file)\n",
    "                shutil.copy2(path_file, dest)\n",
    "print(\"Transfer Complete\")"
   ]
  }
 ],
 "metadata": {
  "kernelspec": {
   "display_name": "Python 3 (ipykernel)",
   "language": "python",
   "name": "python3"
  },
  "language_info": {
   "codemirror_mode": {
    "name": "ipython",
    "version": 3
   },
   "file_extension": ".py",
   "mimetype": "text/x-python",
   "name": "python",
   "nbconvert_exporter": "python",
   "pygments_lexer": "ipython3",
   "version": "3.8.11"
  }
 },
 "nbformat": 4,
 "nbformat_minor": 5
}
